{
 "cells": [
  {
   "cell_type": "code",
   "execution_count": 1,
   "id": "close-destination",
   "metadata": {},
   "outputs": [
    {
     "data": {
      "text/plain": [
       "2"
      ]
     },
     "execution_count": 1,
     "metadata": {},
     "output_type": "execute_result"
    }
   ],
   "source": [
    "1 + 1"
   ]
  },
  {
   "cell_type": "code",
   "execution_count": 1,
   "id": "working-russian",
   "metadata": {},
   "outputs": [
    {
     "name": "stdout",
     "output_type": "stream",
     "text": [
      "ini dari Herbert\n"
     ]
    }
   ],
   "source": [
    "print(\"ini dari Herbert\")"
   ]
  },
  {
   "cell_type": "code",
   "execution_count": 2,
   "id": "available-gibson",
   "metadata": {},
   "outputs": [
    {
     "name": "stdout",
     "output_type": "stream",
     "text": [
      "Ini dari sasa\n"
     ]
    }
   ],
   "source": [
    "print(\"Ini dari sasa\")"
   ]
  },
  {
   "cell_type": "code",
   "execution_count": null,
   "id": "accomplished-certification",
   "metadata": {},
   "outputs": [],
   "source": []
  }
 ],
 "metadata": {
  "kernelspec": {
   "display_name": "Python 3",
   "language": "python",
   "name": "python3"
  },
  "language_info": {
   "codemirror_mode": {
    "name": "ipython",
    "version": 3
   },
   "file_extension": ".py",
   "mimetype": "text/x-python",
   "name": "python",
   "nbconvert_exporter": "python",
   "pygments_lexer": "ipython3",
   "version": "3.7.7"
  }
 },
 "nbformat": 4,
 "nbformat_minor": 5
}
